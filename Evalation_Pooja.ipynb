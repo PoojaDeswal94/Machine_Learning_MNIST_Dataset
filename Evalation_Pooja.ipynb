{
 "cells": [
  {
   "cell_type": "markdown",
   "metadata": {},
   "source": [
    "# <center> MNist database classification<br> <small>Réda DEHAK<br> 1 July 2020</small> </center>\n",
    "\n",
    "The goal of this lab is :\n",
    "    - Evaluate your understanding of the course\n",
    "    - Try and make a comparison of different machine learning methods\n",
    "    \n",
    "This study is based on the <A href=http://yann.lecun.com/exdb/mnist/>MNist dataset</A>. It is handwritten digits dataset with a training set of 60000 samples, and a test set of 10000 samples. It is a subset of a larger set available from NIST. The digits have been size-normalized and centered in a fixed-size image."
   ]
  },
  {
   "cell_type": "markdown",
   "metadata": {},
   "source": [
    "## Questions:\n",
    "\n",
    "- propose three different approaches to classify the MNist dataset. Compare the performance of each method and suggest solutions to improve the performance of each one. You can use all methods that you learned or not during the MSc. The goal is to obtain the best performances measure.\n",
    "- Make a video of 5 minutes maximum to justify your choices and explain your results.\n",
    "- Download the notebook and video on Teams before July 21th."
   ]
  },
  {
   "cell_type": "markdown",
   "metadata": {},
   "source": [
    "### Load the dataset\n",
    "- MNist dataset is proposed in keras.datasets toolbox, you can use this code to load the dataset or use the function mnist_load_data provided in mnist.py file"
   ]
  },
  {
   "cell_type": "code",
   "execution_count": 3,
   "metadata": {},
   "outputs": [
    {
     "name": "stdout",
     "output_type": "stream",
     "text": [
      "train:  (60000, 28, 28)\n",
      "Test:  (10000, 28, 28)\n"
     ]
    }
   ],
   "source": [
    "from keras.datasets import mnist\n",
    "(Xtrain, ytrain), (Xtest, ytest) = mnist.load_data()\n",
    "\n",
    "#from mnist import mnist_load_data\n",
    "#(Xtrain, ytrain), (Xtest, ytest) = mnist_load_data()\n",
    "print('train: ', Xtrain.shape)\n",
    "print('Test: ', Xtest.shape)"
   ]
  },
  {
   "cell_type": "markdown",
   "metadata": {},
   "source": [
    "## First Method:\n",
    "\n",
    "...."
   ]
  },
  {
   "cell_type": "code",
   "execution_count": 2,
   "metadata": {},
   "outputs": [
    {
     "name": "stdout",
     "output_type": "stream",
     "text": [
      "> 98.517\n",
      "> 98.700\n",
      "> 98.575\n",
      "> 98.825\n",
      "> 98.517\n"
     ]
    },
    {
     "name": "stderr",
     "output_type": "stream",
     "text": [
      "C:\\Users\\pooja\\Anaconda3\\lib\\site-packages\\ipykernel_launcher.py:69: MatplotlibDeprecationWarning: Adding an axes using the same arguments as a previous axes currently reuses the earlier instance.  In a future version, a new instance will always be created and returned.  Meanwhile, this warning can be suppressed, and the future behavior ensured, by passing a unique label to each axes instance.\n",
      "C:\\Users\\pooja\\Anaconda3\\lib\\site-packages\\ipykernel_launcher.py:74: MatplotlibDeprecationWarning: Adding an axes using the same arguments as a previous axes currently reuses the earlier instance.  In a future version, a new instance will always be created and returned.  Meanwhile, this warning can be suppressed, and the future behavior ensured, by passing a unique label to each axes instance.\n",
      "C:\\Users\\pooja\\Anaconda3\\lib\\site-packages\\ipykernel_launcher.py:69: MatplotlibDeprecationWarning: Adding an axes using the same arguments as a previous axes currently reuses the earlier instance.  In a future version, a new instance will always be created and returned.  Meanwhile, this warning can be suppressed, and the future behavior ensured, by passing a unique label to each axes instance.\n",
      "C:\\Users\\pooja\\Anaconda3\\lib\\site-packages\\ipykernel_launcher.py:74: MatplotlibDeprecationWarning: Adding an axes using the same arguments as a previous axes currently reuses the earlier instance.  In a future version, a new instance will always be created and returned.  Meanwhile, this warning can be suppressed, and the future behavior ensured, by passing a unique label to each axes instance.\n",
      "C:\\Users\\pooja\\Anaconda3\\lib\\site-packages\\ipykernel_launcher.py:69: MatplotlibDeprecationWarning: Adding an axes using the same arguments as a previous axes currently reuses the earlier instance.  In a future version, a new instance will always be created and returned.  Meanwhile, this warning can be suppressed, and the future behavior ensured, by passing a unique label to each axes instance.\n",
      "C:\\Users\\pooja\\Anaconda3\\lib\\site-packages\\ipykernel_launcher.py:74: MatplotlibDeprecationWarning: Adding an axes using the same arguments as a previous axes currently reuses the earlier instance.  In a future version, a new instance will always be created and returned.  Meanwhile, this warning can be suppressed, and the future behavior ensured, by passing a unique label to each axes instance.\n",
      "C:\\Users\\pooja\\Anaconda3\\lib\\site-packages\\ipykernel_launcher.py:69: MatplotlibDeprecationWarning: Adding an axes using the same arguments as a previous axes currently reuses the earlier instance.  In a future version, a new instance will always be created and returned.  Meanwhile, this warning can be suppressed, and the future behavior ensured, by passing a unique label to each axes instance.\n",
      "C:\\Users\\pooja\\Anaconda3\\lib\\site-packages\\ipykernel_launcher.py:74: MatplotlibDeprecationWarning: Adding an axes using the same arguments as a previous axes currently reuses the earlier instance.  In a future version, a new instance will always be created and returned.  Meanwhile, this warning can be suppressed, and the future behavior ensured, by passing a unique label to each axes instance.\n"
     ]
    },
    {
     "data": {
      "image/png": "[encoded data removed]",
      "text/plain": [
       "<Figure size 432x288 with 2 Axes>"
      ]
     },
     "metadata": {
      "needs_background": "light"
     },
     "output_type": "display_data"
    },
    {
     "name": "stdout",
     "output_type": "stream",
     "text": [
      "Accuracy: mean=98.627 std=0.120, n=5\n"
     ]
    },
    {
     "data": {
      "image/png": "[encoded data removed]",
      "text/plain": [
       "<Figure size 432x288 with 1 Axes>"
      ]
     },
     "metadata": {
      "needs_background": "light"
     },
     "output_type": "display_data"
    }
   ],
   "source": [
    "from numpy import mean\n",
    "from numpy import std\n",
    "from matplotlib import pyplot\n",
    "from sklearn.model_selection import KFold\n",
    "from keras.datasets import mnist\n",
    "from keras.utils import to_categorical\n",
    "from keras.models import Sequential\n",
    "from keras.layers import Conv2D\n",
    "from keras.layers import MaxPooling2D\n",
    "from keras.layers import Dense\n",
    "from keras.layers import Flatten\n",
    "from keras.optimizers import SGD\n",
    "\n",
    "\n",
    "(trainX, trainY), (testX, testY) = mnist.load_data()\n",
    "\n",
    "trainX = trainX.reshape((trainX.shape[0], 28, 28, 1))\n",
    "testX = testX.reshape((testX.shape[0], 28, 28, 1))\n",
    "\n",
    "\n",
    "trainY = to_categorical(trainY)\n",
    "testY = to_categorical(testY)\n",
    "\n",
    "\n",
    "def prep_pixels(train, test):\n",
    "    train_norm = train.astype('float32')\n",
    "    test_norm = test.astype('float32')\n",
    "    train_norm = train_norm / 255.0\n",
    "    test_norm = test_norm / 255.0\n",
    "    return train_norm, test_norm\n",
    "trainX, testX = prep_pixels(trainX, testX)\n",
    "\n",
    "\n",
    "def define_model():\n",
    "    model = Sequential()\n",
    "    model.add(Conv2D(32, (3, 3), activation='relu', kernel_initializer='he_uniform', input_shape=(28, 28, 1)))\n",
    "    model.add(MaxPooling2D((2, 2)))\n",
    "    model.add(Flatten())\n",
    "    model.add(Dense(100, activation='relu', kernel_initializer='he_uniform'))\n",
    "    model.add(Dense(10, activation='softmax'))\n",
    "    \n",
    "    opt = SGD(lr=0.01, momentum=0.9)\n",
    "    model.compile(optimizer=opt, loss='categorical_crossentropy', metrics=['accuracy'])\n",
    "    return model\n",
    "\n",
    "\n",
    "\n",
    "\n",
    "def evaluate_model(dataX, dataY, n_folds=5):\n",
    "    scores, histories = list(), list()\n",
    "   \n",
    "    kfold = KFold(n_folds, shuffle=True, random_state=1)\n",
    "    \n",
    "    for train_ix, test_ix in kfold.split(dataX):\n",
    "        model = define_model()\n",
    "        trainX, trainY, testX, testY = dataX[train_ix], dataY[train_ix], dataX[test_ix], dataY[test_ix]\n",
    "        history = model.fit(trainX, trainY, epochs=10, batch_size=32, validation_data=(testX, testY), verbose=0)\n",
    "        _, acc = model.evaluate(testX, testY, verbose=0)\n",
    "        print('> %.3f' % (acc * 100.0))\n",
    "        scores.append(acc)\n",
    "        histories.append(history)\n",
    "    return scores, histories\n",
    "\n",
    "scores, histories = evaluate_model(trainX, trainY)\n",
    "\n",
    "def summarize_diagnostics(histories):\n",
    "    for i in range(len(histories)):\n",
    "        \n",
    "        pyplot.subplot(2, 1, 1)\n",
    "        pyplot.title('Cross Entropy Loss')\n",
    "        pyplot.plot(histories[i].history['loss'], color='blue', label='train')\n",
    "        pyplot.plot(histories[i].history['val_loss'], color='orange', label='test')\n",
    "        \n",
    "        pyplot.subplot(2, 1, 2)\n",
    "        pyplot.title('Classification Accuracy')\n",
    "        pyplot.plot(histories[i].history['accuracy'], color='blue', label='train')\n",
    "        pyplot.plot(histories[i].history['val_accuracy'], color='orange', label='test')\n",
    "    pyplot.show()\n",
    " \n",
    "\n",
    "def summarize_performance(scores):\n",
    "    \n",
    "    print('Accuracy: mean=%.3f std=%.3f, n=%d' % (mean(scores)*100, std(scores)*100, len(scores)))\n",
    "    \n",
    "    pyplot.boxplot(scores)\n",
    "    pyplot.show()\n",
    " \n",
    "\n",
    "def run_test_harness():\n",
    "    \n",
    "    summarize_diagnostics(histories)\n",
    "    \n",
    "    summarize_performance(scores)\n",
    " \n",
    "\n",
    "run_test_harness()"
   ]
  },
  {
   "cell_type": "markdown",
   "metadata": {},
   "source": [
    "## Second Method:\n",
    "\n",
    "...."
   ]
  },
  {
   "cell_type": "code",
   "execution_count": 10,
   "metadata": {},
   "outputs": [],
   "source": [
    "from keras.datasets import mnist\n",
    "from sklearn import svm\n",
    "from sklearn import metrics\n",
    "from sklearn.metrics import confusion_matrix\n",
    "\n",
    "(trainingImages, trainingLabels), (testImages, testLabels) = mnist.load_data()\n",
    "\n",
    "trainingImages = trainingImages.reshape((len(trainingImages), -1))\n",
    "\n",
    "testImages = testImages.reshape((len(testImages), -1))"
   ]
  },
  {
   "cell_type": "code",
   "execution_count": 11,
   "metadata": {},
   "outputs": [
    {
     "name": "stdout",
     "output_type": "stream",
     "text": [
      "              precision    recall  f1-score   support\n",
      "\n",
      "           0     0.9521    0.9735    0.9627       980\n",
      "           1     0.9539    0.9850    0.9692      1135\n",
      "           2     0.8907    0.9079    0.8992      1032\n",
      "           3     0.8617    0.8881    0.8747      1010\n",
      "           4     0.9129    0.9501    0.9311       982\n",
      "           5     0.8730    0.8554    0.8641       892\n",
      "           6     0.9565    0.9415    0.9490       958\n",
      "           7     0.9295    0.9105    0.9199      1028\n",
      "           8     0.8910    0.8480    0.8690       974\n",
      "           9     0.9156    0.8712    0.8928      1009\n",
      "\n",
      "    accuracy                         0.9145     10000\n",
      "   macro avg     0.9137    0.9131    0.9132     10000\n",
      "weighted avg     0.9144    0.9145    0.9142     10000\n",
      "\n",
      "[[ 954    0    1    2    2   13    6    1    1    0]\n",
      " [   0 1118    5    1    0    1    2    1    7    0]\n",
      " [   6   13  937   17    5    6    7   14   26    1]\n",
      " [   2    4   29  897    1   36    1    7   25    8]\n",
      " [   1    1   10    1  933    0    6    2    4   24]\n",
      " [  15    7    6   48    7  763   11    3   27    5]\n",
      " [  10    3   15    2    8   18  902    0    0    0]\n",
      " [   1   10   17   15   12    1    0  936    0   36]\n",
      " [   6    8   29   46    7   30    7    8  826    7]\n",
      " [   7    8    3   12   47    6    1   35   11  879]]\n"
     ]
    }
   ],
   "source": [
    "#For linear Kernal\n",
    "\n",
    "clf = svm.SVC(C=100, kernel='linear', decision_function_shape='ovr')\n",
    "\n",
    "clf.fit(trainingImages[:30000], trainingLabels[:30000])\n",
    "\n",
    "predictionRes = clf.predict(testImages)\n",
    "\n",
    "# Calculation of the success of the test phase via metrics\n",
    "print (metrics.classification_report(testLabels.tolist(), predictionRes, digits=4))\n",
    "\n",
    "print(confusion_matrix(testLabels, predictionRes ))"
   ]
  },
  {
   "cell_type": "code",
   "execution_count": 12,
   "metadata": {},
   "outputs": [
    {
     "name": "stdout",
     "output_type": "stream",
     "text": [
      "              precision    recall  f1-score   support\n",
      "\n",
      "           0     0.9799    0.9929    0.9863       980\n",
      "           1     0.9851    0.9921    0.9886      1135\n",
      "           2     0.9739    0.9777    0.9758      1032\n",
      "           3     0.9744    0.9812    0.9778      1010\n",
      "           4     0.9718    0.9817    0.9767       982\n",
      "           5     0.9795    0.9641    0.9718       892\n",
      "           6     0.9791    0.9770    0.9781       958\n",
      "           7     0.9795    0.9737    0.9766      1028\n",
      "           8     0.9782    0.9692    0.9737       974\n",
      "           9     0.9770    0.9663    0.9716      1009\n",
      "\n",
      "    accuracy                         0.9779     10000\n",
      "   macro avg     0.9778    0.9776    0.9777     10000\n",
      "weighted avg     0.9779    0.9779    0.9779     10000\n",
      "\n",
      "[[ 973    0    1    1    0    0    2    0    3    0]\n",
      " [   0 1126    4    0    0    1    2    1    1    0]\n",
      " [   4    1 1009    0    1    0    4    9    4    0]\n",
      " [   0    0    4  991    1    2    0    5    5    2]\n",
      " [   2    0    1    0  964    0    6    0    0    9]\n",
      " [   3    2    0   12    2  860    6    0    3    4]\n",
      " [   5    2    3    1    3    6  936    0    2    0]\n",
      " [   0    9    9    1    2    0    0 1001    1    5]\n",
      " [   3    0    3    7    5    5    0    4  944    3]\n",
      " [   3    3    2    4   14    4    0    2    2  975]]\n"
     ]
    }
   ],
   "source": [
    "#For Poly kernal\n",
    "clf = svm.SVC(C=100, kernel='poly', degree = 2)\n",
    "\n",
    "clf.fit(trainingImages[:30000], trainingLabels[:30000])\n",
    "\n",
    "predictionRes = clf.predict(testImages)\n",
    "\n",
    "# Calculation of the success of the test phase via metrics\n",
    "print (metrics.classification_report(testLabels.tolist(), predictionRes, digits=4))\n",
    "print(confusion_matrix(testLabels, predictionRes ))"
   ]
  },
  {
   "cell_type": "code",
   "execution_count": 13,
   "metadata": {},
   "outputs": [
    {
     "name": "stdout",
     "output_type": "stream",
     "text": [
      "              precision    recall  f1-score   support\n",
      "\n",
      "           0     0.9799    0.9929    0.9863       980\n",
      "           1     0.9877    0.9938    0.9908      1135\n",
      "           2     0.9759    0.9797    0.9778      1032\n",
      "           3     0.9746    0.9871    0.9808      1010\n",
      "           4     0.9807    0.9807    0.9807       982\n",
      "           5     0.9829    0.9686    0.9757       892\n",
      "           6     0.9832    0.9781    0.9806       958\n",
      "           7     0.9765    0.9718    0.9742      1028\n",
      "           8     0.9794    0.9754    0.9774       974\n",
      "           9     0.9770    0.9673    0.9721      1009\n",
      "\n",
      "    accuracy                         0.9798     10000\n",
      "   macro avg     0.9798    0.9795    0.9796     10000\n",
      "weighted avg     0.9798    0.9798    0.9798     10000\n",
      "\n",
      "[[ 973    0    1    0    0    1    2    1    2    0]\n",
      " [   0 1128    4    0    0    1    1    1    0    0]\n",
      " [   5    0 1011    0    1    0    2    9    4    0]\n",
      " [   0    0    2  997    1    2    0    4    3    1]\n",
      " [   1    0    3    0  963    0    5    0    1    9]\n",
      " [   2    1    0   12    1  864    6    1    3    2]\n",
      " [   6    2    2    1    2    5  937    0    3    0]\n",
      " [   0    8   10    2    1    0    0  999    0    8]\n",
      " [   3    0    2    5    4    3    0    4  950    3]\n",
      " [   3    3    1    6    9    3    0    4    4  976]]\n"
     ]
    }
   ],
   "source": [
    "#For RBF kernal\n",
    "clf = svm.SVC(C=100, kernel='rbf')\n",
    "clf.fit(trainingImages[:30000], trainingLabels[:30000])\n",
    "\n",
    "predictionRes = clf.predict(testImages)\n",
    "\n",
    "# Calculation of the success of the test phase via metrics\n",
    "print (metrics.classification_report(testLabels.tolist(), predictionRes, digits=4))\n",
    "\n",
    "print(confusion_matrix(testLabels, predictionRes ))"
   ]
  },
  {
   "cell_type": "markdown",
   "metadata": {},
   "source": [
    "## Third Method:\n",
    "\n",
    "...."
   ]
  },
  {
   "cell_type": "code",
   "execution_count": 1,
   "metadata": {},
   "outputs": [
    {
     "name": "stderr",
     "output_type": "stream",
     "text": [
      "Using TensorFlow backend.\n"
     ]
    },
    {
     "name": "stdout",
     "output_type": "stream",
     "text": [
      "Requirement already satisfied: pydot in c:\\users\\pooja\\anaconda3\\lib\\site-packages (1.4.1)\n",
      "Requirement already satisfied: pyparsing>=2.1.4 in c:\\users\\pooja\\anaconda3\\lib\\site-packages (from pydot) (2.4.7)\n",
      "              precision    recall  f1-score   support\n",
      "\n",
      "           0     0.9161    0.9357    0.9258       980\n",
      "           1     0.9489    0.9648    0.9567      1135\n",
      "           2     0.8708    0.8556    0.8631      1032\n",
      "           3     0.8433    0.8634    0.8532      1010\n",
      "           4     0.8632    0.8870    0.8749       982\n",
      "           5     0.8513    0.8408    0.8460       892\n",
      "           6     0.8921    0.8800    0.8860       958\n",
      "           7     0.9128    0.9066    0.9097      1028\n",
      "           8     0.8310    0.8080    0.8194       974\n",
      "           9     0.8612    0.8484    0.8547      1009\n",
      "\n",
      "    accuracy                         0.8806     10000\n",
      "   macro avg     0.8791    0.8790    0.8790     10000\n",
      "weighted avg     0.8804    0.8806    0.8804     10000\n",
      "\n"
     ]
    }
   ],
   "source": [
    "from keras.datasets import mnist\n",
    "from sklearn import tree\n",
    "from sklearn import metrics\n",
    "from sklearn.model_selection import cross_validate\n",
    "from sklearn.model_selection import cross_val_score\n",
    "import matplotlib.pyplot as plt\n",
    "from io import StringIO\n",
    "!pip install pydot\n",
    "import  pydot\n",
    "\n",
    "\n",
    "(trainingImages, trainingLabels), (testImages, testLabels) = mnist.load_data()\n",
    "\n",
    "\n",
    "trainingImages = trainingImages.reshape((len(trainingImages), -1))\n",
    "\n",
    "testImages = testImages.reshape((len(testImages), -1))\n",
    "                                        \n",
    "clf = tree.DecisionTreeClassifier(criterion=\"gini\", max_depth=32, max_features=784)\n",
    "\n",
    "clf = clf.fit(trainingImages[:60000], trainingLabels[:60000])\n",
    "\n",
    "predictionRes = clf.predict(testImages)\n",
    "\n",
    "print (metrics.classification_report(testLabels.tolist(), predictionRes, digits=4))"
   ]
  },
  {
   "cell_type": "markdown",
   "metadata": {},
   "source": [
    "## Comparison\n",
    "\n",
    "...."
   ]
  },
  {
   "cell_type": "code",
   "execution_count": null,
   "metadata": {},
   "outputs": [],
   "source": [
    "#for CNN, we got accuracy = 98.627\n",
    "#In SVM - with LINEAR kernal, accuracy =0.9145\n",
    "#       - with POLY kernal, accuracy =0.9779\n",
    "#       - with RBF kernal, accuracy = 0.9798\n",
    "# for decision tree , accuracy = 0.8806"
   ]
  },
  {
   "cell_type": "markdown",
   "metadata": {},
   "source": [
    "## Conclusions and Perspectives:\n",
    "\n",
    "..."
   ]
  },
  {
   "cell_type": "code",
   "execution_count": null,
   "metadata": {},
   "outputs": [],
   "source": [
    "# As per the above results , CNN classifier gives the maximum efficiency when compared to SVM and Decision Tree.\n",
    "# CNN results can be improved by increasing the learning rate."
   ]
  }
 ],
 "metadata": {
  "kernelspec": {
   "display_name": "Python 3",
   "language": "python",
   "name": "python3"
  },
  "language_info": {
   "codemirror_mode": {
    "name": "ipython",
    "version": 3
   },
   "file_extension": ".py",
   "mimetype": "text/x-python",
   "name": "python",
   "nbconvert_exporter": "python",
   "pygments_lexer": "ipython3",
   "version": "3.7.4"
  }
 },
 "nbformat": 4,
 "nbformat_minor": 4
}
